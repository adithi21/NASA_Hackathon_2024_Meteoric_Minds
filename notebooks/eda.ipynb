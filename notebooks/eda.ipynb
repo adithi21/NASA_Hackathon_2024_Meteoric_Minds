{
 "cells": [
  {
   "cell_type": "code",
   "execution_count": 28,
   "metadata": {},
   "outputs": [],
   "source": [
    "import pandas as pd\n",
    "import numpy as np\n",
    "\n",
    "import matplotlib.pyplot as plt\n",
    "import lightgbm as lgb\n",
    "import seaborn as sns\n",
    "import random\n",
    "\n",
    "from sklearn.model_selection import train_test_split\n",
    "\n",
    "from sklearn.metrics import (\n",
    "r2_score,\n",
    "mean_absolute_percentage_error,\n",
    "mean_squared_error\n",
    ")\n",
    "\n",
    "seed = 23\n",
    "\n",
    "random.seed(seed)"
   ]
  },
  {
   "cell_type": "code",
   "execution_count": 29,
   "metadata": {},
   "outputs": [
    {
     "name": "stdout",
     "output_type": "stream",
     "text": [
      "Data Shape:  (677618, 8)\n",
      "\n",
      "\n",
      "\n",
      "lat           float64\n",
      "lon           float64\n",
      "time           object\n",
      "gws_inst      float64\n",
      "rtzsm_inst    float64\n",
      "sfsm_inst     float64\n",
      "start_date     object\n",
      "end_date       object\n",
      "dtype: object\n"
     ]
    }
   ],
   "source": [
    "data = pd.read_csv(\"../India_gws_01012023_05092024.csv\")\n",
    "\n",
    "print(\"Data Shape: \",data.shape)\n",
    "\n",
    "print(\"\\n\\n\")\n",
    "print(data.dtypes)"
   ]
  },
  {
   "cell_type": "code",
   "execution_count": 30,
   "metadata": {},
   "outputs": [
    {
     "data": {
      "text/html": [
       "<div>\n",
       "<style scoped>\n",
       "    .dataframe tbody tr th:only-of-type {\n",
       "        vertical-align: middle;\n",
       "    }\n",
       "\n",
       "    .dataframe tbody tr th {\n",
       "        vertical-align: top;\n",
       "    }\n",
       "\n",
       "    .dataframe thead th {\n",
       "        text-align: right;\n",
       "    }\n",
       "</style>\n",
       "<table border=\"1\" class=\"dataframe\">\n",
       "  <thead>\n",
       "    <tr style=\"text-align: right;\">\n",
       "      <th></th>\n",
       "      <th>lat</th>\n",
       "      <th>lon</th>\n",
       "      <th>gws_inst</th>\n",
       "      <th>rtzsm_inst</th>\n",
       "      <th>sfsm_inst</th>\n",
       "    </tr>\n",
       "  </thead>\n",
       "  <tbody>\n",
       "    <tr>\n",
       "      <th>count</th>\n",
       "      <td>677618.000000</td>\n",
       "      <td>677618.000000</td>\n",
       "      <td>677618.000000</td>\n",
       "      <td>677618.000000</td>\n",
       "      <td>677618.000000</td>\n",
       "    </tr>\n",
       "    <tr>\n",
       "      <th>mean</th>\n",
       "      <td>26.639361</td>\n",
       "      <td>82.532557</td>\n",
       "      <td>44.416734</td>\n",
       "      <td>44.662613</td>\n",
       "      <td>45.194149</td>\n",
       "    </tr>\n",
       "    <tr>\n",
       "      <th>std</th>\n",
       "      <td>6.657457</td>\n",
       "      <td>8.152258</td>\n",
       "      <td>38.989076</td>\n",
       "      <td>37.925992</td>\n",
       "      <td>37.877627</td>\n",
       "    </tr>\n",
       "    <tr>\n",
       "      <th>min</th>\n",
       "      <td>6.875000</td>\n",
       "      <td>68.375000</td>\n",
       "      <td>0.219780</td>\n",
       "      <td>0.219780</td>\n",
       "      <td>0.219780</td>\n",
       "    </tr>\n",
       "    <tr>\n",
       "      <th>25%</th>\n",
       "      <td>22.125000</td>\n",
       "      <td>76.125000</td>\n",
       "      <td>3.516484</td>\n",
       "      <td>5.375830</td>\n",
       "      <td>5.100681</td>\n",
       "    </tr>\n",
       "    <tr>\n",
       "      <th>50%</th>\n",
       "      <td>27.125000</td>\n",
       "      <td>81.375000</td>\n",
       "      <td>36.263737</td>\n",
       "      <td>38.063419</td>\n",
       "      <td>39.902762</td>\n",
       "    </tr>\n",
       "    <tr>\n",
       "      <th>75%</th>\n",
       "      <td>32.125000</td>\n",
       "      <td>89.375000</td>\n",
       "      <td>87.179445</td>\n",
       "      <td>84.563605</td>\n",
       "      <td>84.822615</td>\n",
       "    </tr>\n",
       "    <tr>\n",
       "      <th>max</th>\n",
       "      <td>36.875000</td>\n",
       "      <td>97.375000</td>\n",
       "      <td>100.000000</td>\n",
       "      <td>100.000000</td>\n",
       "      <td>100.000000</td>\n",
       "    </tr>\n",
       "  </tbody>\n",
       "</table>\n",
       "</div>"
      ],
      "text/plain": [
       "                 lat            lon       gws_inst     rtzsm_inst  \\\n",
       "count  677618.000000  677618.000000  677618.000000  677618.000000   \n",
       "mean       26.639361      82.532557      44.416734      44.662613   \n",
       "std         6.657457       8.152258      38.989076      37.925992   \n",
       "min         6.875000      68.375000       0.219780       0.219780   \n",
       "25%        22.125000      76.125000       3.516484       5.375830   \n",
       "50%        27.125000      81.375000      36.263737      38.063419   \n",
       "75%        32.125000      89.375000      87.179445      84.563605   \n",
       "max        36.875000      97.375000     100.000000     100.000000   \n",
       "\n",
       "           sfsm_inst  \n",
       "count  677618.000000  \n",
       "mean       45.194149  \n",
       "std        37.877627  \n",
       "min         0.219780  \n",
       "25%         5.100681  \n",
       "50%        39.902762  \n",
       "75%        84.822615  \n",
       "max       100.000000  "
      ]
     },
     "execution_count": 30,
     "metadata": {},
     "output_type": "execute_result"
    }
   ],
   "source": [
    "data.describe()"
   ]
  },
  {
   "cell_type": "code",
   "execution_count": 31,
   "metadata": {},
   "outputs": [
    {
     "data": {
      "text/plain": [
       "lat           677618\n",
       "lon           677618\n",
       "time          677618\n",
       "gws_inst      677618\n",
       "rtzsm_inst    677618\n",
       "sfsm_inst     677618\n",
       "start_date    677618\n",
       "end_date      677618\n",
       "dtype: int64"
      ]
     },
     "execution_count": 31,
     "metadata": {},
     "output_type": "execute_result"
    }
   ],
   "source": [
    "data[~data.isnull()].count()"
   ]
  },
  {
   "cell_type": "code",
   "execution_count": 32,
   "metadata": {},
   "outputs": [
    {
     "name": "stderr",
     "output_type": "stream",
     "text": [
      "C:\\Users\\bs\\AppData\\Local\\Temp\\ipykernel_45680\\2466842270.py:1: FutureWarning: The default value of numeric_only in DataFrame.corr is deprecated. In a future version, it will default to False. Select only valid columns or specify the value of numeric_only to silence this warning.\n",
      "  corr_matrix = data.corr()\n"
     ]
    },
    {
     "data": {
      "image/png": "[encoded data removed]",
      "text/plain": [
       "<Figure size 720x576 with 2 Axes>"
      ]
     },
     "metadata": {
      "needs_background": "light"
     },
     "output_type": "display_data"
    }
   ],
   "source": [
    "corr_matrix = data.corr()\n",
    "\n",
    "plt.figure(figsize=(10, 8))\n",
    "sns.heatmap(corr_matrix, annot=True, cmap=\"coolwarm\", fmt=\".2f\")\n",
    "\n",
    "plt.title(\"Correlation Matrix\")\n",
    "plt.show()"
   ]
  },
  {
   "cell_type": "code",
   "execution_count": 33,
   "metadata": {},
   "outputs": [],
   "source": [
    "X = data[[\"sfsm_inst\", \"rtzsm_inst\"]]\n",
    "y = data[\"gws_inst\"]\n",
    "\n",
    "# Split the data into training and temporary sets (80% train, 20% temporary)\n",
    "train_x, X_temp, train_y, y_temp = train_test_split(\n",
    "    X, y, test_size=0.2, random_state=42\n",
    ")\n",
    "\n",
    "# Split the temporary set into validation and test sets (50% validation, 50% test of the temporary set)\n",
    "validation_x, test_x, validation_y, test_y = train_test_split(\n",
    "    X_temp, y_temp, test_size=0.5, random_state=42\n",
    ")"
   ]
  },
  {
   "cell_type": "code",
   "execution_count": 34,
   "metadata": {},
   "outputs": [
    {
     "name": "stderr",
     "output_type": "stream",
     "text": [
      "C:\\Users\\bs\\AppData\\Roaming\\Python\\Python39\\site-packages\\lightgbm\\engine.py:181: UserWarning: 'early_stopping_rounds' argument is deprecated and will be removed in a future release of LightGBM. Pass 'early_stopping()' callback via 'callbacks' argument instead.\n",
      "  _log_warning(\"'early_stopping_rounds' argument is deprecated and will be removed in a future release of LightGBM. \"\n",
      "C:\\Users\\bs\\AppData\\Roaming\\Python\\Python39\\site-packages\\lightgbm\\engine.py:239: UserWarning: 'verbose_eval' argument is deprecated and will be removed in a future release of LightGBM. Pass 'log_evaluation()' callback via 'callbacks' argument instead.\n",
      "  _log_warning(\"'verbose_eval' argument is deprecated and will be removed in a future release of LightGBM. \"\n",
      "C:\\Users\\bs\\AppData\\Roaming\\Python\\Python39\\site-packages\\lightgbm\\engine.py:260: UserWarning: 'evals_result' argument is deprecated and will be removed in a future release of LightGBM. Pass 'record_evaluation()' callback via 'callbacks' argument instead.\n",
      "  _log_warning(\"'evals_result' argument is deprecated and will be removed in a future release of LightGBM. \"\n"
     ]
    },
    {
     "name": "stdout",
     "output_type": "stream",
     "text": [
      "[LightGBM] [Warning] Unknown parameter: bagging_frequency\n",
      "Training until validation scores don't improve for 100 rounds\n"
     ]
    }
   ],
   "source": [
    "def light_gbm_model_run(train_x, train_y, validation_x, validation_y, test_x, test_y):\n",
    "    params = {\n",
    "        \"objective\": \"regression\",\n",
    "        \"metric\": \"rmse\",\n",
    "        \"num_leaves\": 100,\n",
    "        \"learning_rate\": 0.001,\n",
    "        \"bagging_fraction\": 0.6,\n",
    "        \"feature_fraction\": 0.6,\n",
    "        \"bagging_frequency\": 6,\n",
    "        \"bagging_seed\": 42,\n",
    "        \"verbosity\": -1,\n",
    "        \"seed\": seed,\n",
    "    }\n",
    "    # Given it's a regression case, RMSE is used as the metric.\n",
    "\n",
    "    lg_train = lgb.Dataset(train_x, label=train_y)\n",
    "    lg_validation = lgb.Dataset(validation_x, label=validation_y)\n",
    "    evals_result_lgbm = {}\n",
    "\n",
    "    model_light_gbm = lgb.train(\n",
    "        params,\n",
    "        lg_train,\n",
    "        valid_sets=[lg_train, lg_validation],\n",
    "        early_stopping_rounds=40,\n",
    "        verbose=-1,\n",
    "        evals_result=evals_result_lgbm,\n",
    "    )\n",
    "\n",
    "    pred_test_light_gbm = np.expm1(\n",
    "        model_light_gbm.predict(test_x, num_iteration=model_light_gbm.best_iteration)\n",
    "    )\n",
    "\n",
    "    # Calculate MAPE and R²\n",
    "    mape = mean_absolute_percentage_error(test_y, pred_test_light_gbm)\n",
    "    r2 = r2_score(test_y, pred_test_light_gbm)\n",
    "\n",
    "    return pred_test_light_gbm, model_light_gbm, evals_result_lgbm, mape, r2\n",
    "\n",
    "\n",
    "# Example usage:\n",
    "pred_test, model, evals_result, mape, r2 = light_gbm_model_run(\n",
    "    train_x, train_y, validation_x, validation_y, test_x, test_y\n",
    ")\n",
    "print(f\"MAPE: {mape}\")\n",
    "print(f\"R²: {r2}\")"
   ]
  }
 ],
 "metadata": {
  "kernelspec": {
   "display_name": "base",
   "language": "python",
   "name": "python3"
  },
  "language_info": {
   "codemirror_mode": {
    "name": "ipython",
    "version": 3
   },
   "file_extension": ".py",
   "mimetype": "text/x-python",
   "name": "python",
   "nbconvert_exporter": "python",
   "pygments_lexer": "ipython3",
   "version": "3.9.12"
  }
 },
 "nbformat": 4,
 "nbformat_minor": 2
}
