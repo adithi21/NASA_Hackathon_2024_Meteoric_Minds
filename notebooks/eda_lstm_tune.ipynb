{
 "cells": [
  {
   "cell_type": "code",
   "execution_count": 2,
   "metadata": {},
   "outputs": [],
   "source": [
    "import pandas as pd\n",
    "import numpy as np\n",
    "\n",
    "import os"
   ]
  },
  {
   "cell_type": "code",
   "execution_count": null,
   "metadata": {},
   "outputs": [],
   "source": [
    "# Define the relative path to the CSV file\n",
    "file_path = '../data_with_state.csv'\n",
    "\n",
    "# Read the CSV file\n",
    "data = pd.read_csv(file_path)\n",
    "\n",
    "# Display the first few rows of the dataframe\n",
    "data.head()\n"
   ]
  },
  {
   "cell_type": "code",
   "execution_count": null,
   "metadata": {},
   "outputs": [],
   "source": [
    "data.dtypes"
   ]
  },
  {
   "cell_type": "code",
   "execution_count": null,
   "metadata": {},
   "outputs": [],
   "source": [
    "# display shape\n",
    "data.shape"
   ]
  },
  {
   "cell_type": "code",
   "execution_count": null,
   "metadata": {},
   "outputs": [],
   "source": [
    "data['STATE'].unique()"
   ]
  },
  {
   "cell_type": "code",
   "execution_count": null,
   "metadata": {},
   "outputs": [],
   "source": [
    "import matplotlib.pyplot as plt\n",
    "\n",
    "data['gws_inst'].plot(kind='hist', bins=50, figsize=(10, 6))\n",
    "plt.title(\"Histogram of gws_inst\")\n",
    "plt.xlabel('gws_inst Values')\n",
    "plt.show()\n"
   ]
  },
  {
   "cell_type": "code",
   "execution_count": null,
   "metadata": {},
   "outputs": [],
   "source": [
    "# Calculate Q1 (25th percentile) and Q3 (75th percentile)\n",
    "Q1 = data['gws_inst'].quantile(0.25)\n",
    "Q3 = data['gws_inst'].quantile(0.75)\n",
    "IQR = Q3 - Q1\n",
    "\n",
    "# Calculate lower and upper bounds\n",
    "lower_bound = Q1 - 1.5 * IQR\n",
    "upper_bound = Q3 + 1.5 * IQR\n",
    "\n",
    "# Identify outliers\n",
    "outliers = data[(data['gws_inst'] < lower_bound) | (data['gws_inst'] > upper_bound)]\n",
    "\n",
    "# Display the outliers\n",
    "print(f\"Number of outliers detected: {len(outliers)}\")\n",
    "outliers\n"
   ]
  },
  {
   "cell_type": "code",
   "execution_count": null,
   "metadata": {},
   "outputs": [],
   "source": [
    "from scipy import stats\n",
    "import numpy as np\n",
    "\n",
    "# Calculate Z-scores for the 'gws_inst' column\n",
    "z_scores = np.abs(stats.zscore(data['gws_inst'].dropna()))  # Drop NA values before calculating Z-scores\n",
    "\n",
    "\n",
    "z_scores.plot(kind='hist', bins=50, figsize=(10, 6))"
   ]
  },
  {
   "cell_type": "code",
   "execution_count": null,
   "metadata": {},
   "outputs": [],
   "source": [
    "import pandas as pd\n",
    "import seaborn as sns\n",
    "import matplotlib.pyplot as plt\n",
    "\n",
    "# Assuming your DataFrame is named 'data'\n",
    "# Compute the correlation matrix\n",
    "correlation_matrix = data[['gws_inst', 'rtzsm_inst', 'sfsm_inst']].corr()\n",
    "\n",
    "# Plot the correlation matrix\n",
    "plt.figure(figsize=(8, 6))\n",
    "sns.heatmap(correlation_matrix, annot=True, cmap='coolwarm', square=True)\n",
    "plt.title('Feature Correlation Matrix')\n",
    "plt.show()\n"
   ]
  },
  {
   "cell_type": "code",
   "execution_count": null,
   "metadata": {},
   "outputs": [],
   "source": [
    "import pandas as pd\n",
    "import numpy as np\n",
    "import matplotlib.pyplot as plt\n",
    "from sklearn.preprocessing import MinMaxScaler\n",
    "from tensorflow.keras.models import Sequential\n",
    "from tensorflow.keras.layers import LSTM, Dense, Dropout\n",
    "from sklearn.model_selection import train_test_split\n",
    "from tensorflow.keras.callbacks import EarlyStopping\n",
    "\n",
    "# Load the dataset\n",
    "data = pd.read_csv('../data_with_state.csv')\n",
    "\n",
    "# Convert the 'time' column to datetime\n",
    "data['time'] = pd.to_datetime(data['time'], format='%d-%m-%Y')\n",
    "\n",
    "\n",
    "# Sort the data by time\n",
    "data = data.sort_values('time')\n",
    "\n",
    "# Select the relevant features for the time-series analysis\n",
    "features = ['lat', 'lon', 'rtzsm_inst', 'sfsm_inst', 'week_no']\n",
    "target = 'gws_inst'\n",
    "\n",
    "# Normalize the data\n",
    "scaler = MinMaxScaler()\n",
    "data_scaled = scaler.fit_transform(data[features + [target]])\n",
    "\n",
    "\n",
    "# Create sequences for LSTM (let's use 30 timesteps)\n",
    "def create_sequences(data, seq_length):\n",
    "    xs = []\n",
    "    ys = []\n",
    "    for i in range(len(data) - seq_length):\n",
    "        x = data[i:i+seq_length, :-1]  # all features except target\n",
    "        y = data[i+seq_length, -1]  # target column\n",
    "        xs.append(x)\n",
    "        ys.append(y)\n",
    "    return np.array(xs), np.array(ys)\n",
    "SEQ_LENGTH = 30  # Number of past time steps to consider\n",
    "X, y = create_sequences(data_scaled, SEQ_LENGTH)\n",
    "# Split the data into train and test sets\n",
    "X_train, X_test, y_train, y_test = train_test_split(X, y, test_size=0.2, random_state=42)\n",
    "\n",
    "# Build the LSTM model\n",
    "model = Sequential()\n",
    "\n",
    "# First LSTM layer with Dropout\n",
    "model.add(LSTM(units=128, return_sequences=True, input_shape=(SEQ_LENGTH, X_train.shape[2])))\n",
    "model.add(Dropout(0.3))\n",
    "# Second LSTM layer\n",
    "model.add(LSTM(units=64, return_sequences=False))\n",
    "model.add(Dropout(0.3))\n",
    "\n",
    "# Output layer for regression\n",
    "model.add(Dense(1))\n",
    "\n",
    "# Compile the model\n",
    "model.compile(optimizer='adam', loss='mean_squared_error')\n",
    "\n",
    "# Early stopping to avoid overfitting (monitor validation loss)\n",
    "early_stopping = EarlyStopping(monitor='val_loss', patience=5, restore_best_weights=True)\n",
    "\n",
    "# Train the model with fine-tuned batch size and more epochs\n",
    "\n",
    "\n",
    "# Train the model\n",
    "history = model.fit(X_train, y_train, epochs=10, batch_size=32, validation_data=(X_test, y_test),callbacks=[early_stopping])\n",
    "\n",
    "\n"
   ]
  },
  {
   "cell_type": "code",
   "execution_count": null,
   "metadata": {},
   "outputs": [],
   "source": [
    "# Plot training & validation loss values\n",
    "plt.plot(history.history['loss'])\n",
    "plt.plot(history.history['val_loss'])\n",
    "plt.title('Model loss')\n",
    "plt.ylabel('Loss')\n",
    "plt.xlabel('Epoch')\n",
    "plt.legend(['Train', 'Test'], loc='upper right')\n",
    "plt.show()"
   ]
  },
  {
   "cell_type": "code",
   "execution_count": null,
   "metadata": {},
   "outputs": [],
   "source": [
    "# Make predictions\n",
    "predictions = model.predict(X_test)\n",
    "\n",
    "# Rescale the predictions back to original values\n",
    "y_test_rescaled = scaler.inverse_transform(np.concatenate([np.zeros((len(y_test), X_test.shape[2])), y_test.reshape(-1,1)], axis=1))[:, -1]\n",
    "predictions_rescaled = scaler.inverse_transform(np.concatenate([np.zeros((len(predictions), X_test.shape[2])), predictions], axis=1))[:, -1]\n",
    "\n"
   ]
  },
  {
   "cell_type": "code",
   "execution_count": null,
   "metadata": {},
   "outputs": [],
   "source": [
    "# Plot actual vs predicted\n",
    "plt.figure(figsize=(10, 6))\n",
    "plt.plot(y_test_rescaled, label='Actual Groundwater Storage')\n",
    "plt.plot(predictions_rescaled, label='Predicted Groundwater Storage')\n",
    "plt.title('Actual vs Predicted Groundwater Storage')\n",
    "plt.xlabel('Samples')\n",
    "plt.ylabel('Groundwater Storage')\n",
    "plt.legend()\n",
    "plt.show()"
   ]
  },
  {
   "cell_type": "code",
   "execution_count": null,
   "metadata": {},
   "outputs": [],
   "source": [
    "from sklearn.metrics import mean_squared_error, mean_absolute_error\n",
    "import numpy as np\n",
    "\n",
    "# Calculate Mean Absolute Error\n",
    "mae = mean_absolute_error(y_test_rescaled, predictions_rescaled)\n",
    "print(\"Mean Absolute Error (MAE):\", mae)\n",
    "\n",
    "# Calculate Mean Squared Error\n",
    "mse = mean_squared_error(y_test_rescaled, predictions_rescaled)\n",
    "print(\"Mean Squared Error (MSE):\", mse)\n",
    "\n",
    "# Calculate Root Mean Squared Error\n",
    "rmse = np.sqrt(mse)\n",
    "print(\"Root Mean Squared Error (RMSE):\", rmse)\n"
   ]
  },
  {
   "cell_type": "code",
   "execution_count": null,
   "metadata": {},
   "outputs": [],
   "source": [
    "from sklearn.metrics import r2_score\n",
    "\n",
    "r2 = r2_score(y_test_rescaled, predictions_rescaled)\n",
    "print(\"R² Score:\", r2)\n"
   ]
  },
  {
   "cell_type": "code",
   "execution_count": null,
   "metadata": {},
   "outputs": [],
   "source": [
    "# Number of samples\n",
    "n = len(y_test_rescaled)\n",
    "\n",
    "p=1\n",
    "\n",
    "# Calculate Adjusted R²\n",
    "adjusted_r2 = 1 - ((1 - r2) * (n - 1)) / (n - p - 1)\n",
    "adjusted_r2"
   ]
  },
  {
   "cell_type": "code",
   "execution_count": null,
   "metadata": {},
   "outputs": [],
   "source": [
    "\n",
    "import pickle\n",
    "\n",
    "# Save the model as a .h5 file\n",
    "model.save(\"lstm_model.h5\")\n",
    "\n",
    "# Optionally, you can save a reference to the file path using pickle\n",
    "model_path = \"lstm_model.h5\"\n",
    "\n",
    "# Save the path to a .pkl file\n",
    "with open('lstm_path.pkl', 'wb') as file:\n",
    "    pickle.dump(model_path, file)"
   ]
  }
 ],
 "metadata": {
  "kernelspec": {
   "display_name": "Python 3",
   "language": "python",
   "name": "python3"
  },
  "language_info": {
   "codemirror_mode": {
    "name": "ipython",
    "version": 3
   },
   "file_extension": ".py",
   "mimetype": "text/x-python",
   "name": "python",
   "nbconvert_exporter": "python",
   "pygments_lexer": "ipython3",
   "version": "3.10.0"
  }
 },
 "nbformat": 4,
 "nbformat_minor": 2
}
